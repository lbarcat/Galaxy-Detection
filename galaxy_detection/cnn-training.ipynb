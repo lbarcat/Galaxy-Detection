{
 "cells": [
  {
   "cell_type": "code",
   "execution_count": 30,
   "metadata": {},
   "outputs": [],
   "source": [
    "#carregando as bibliotecas\n",
    "\n",
    "#numpy é uma biblioteca Python usada para computação numérica.Ele fornece suporte para arrays e matrizes grandes e multidimensionais, bem como uma grande coleção de funções matemáticas para operar nesses arrays.\n",
    "import numpy as np\n",
    "#torch é uma biblioteca Python usada para construir e treinar redes neurais. Ele fornece suporte para cálculos de tensor, diferenciação automática e aceleração de GPU.\n",
    "import torch\n",
    "#glob é um módulo Python usado para encontrar todos os nomes de caminho correspondentes a um padrão especificado de acordo com as regras usadas pelo shell Unix.\n",
    "import glob\n",
    "#torch.nn é um módulo na biblioteca do torch que fornece suporte para a construção de redes neurais. Ele fornece um conjunto de camadas e funções pré-definidas que podem ser usadas para construir uma rede neural.\n",
    "import torch.nn as nn\n",
    "#torchvision.tranforms é um módulo na biblioteca do torchvision que fornece suporte para transformações de imagens. Ele fornece um conjunto de funções predefinidas que podem ser usadas para transformar imagens, como redimensionar, recortar e inverter.\n",
    "from torchvision.transforms import transforms\n",
    "#torch.utils.data é um módulo na biblioteca do torch que fornece suporte para carregamento e processamento de dados. Ele fornece um conjunto de classes e funções que podem ser usadas para criar carregadores de dados, que podem ser usados ​​para carregar dados em lotes durante o treinamento.\n",
    "from torch.utils.data import DataLoader\n",
    "#torch.optim é um módulo na biblioteca do torch que fornece suporte para algoritmos de otimização. Ele fornece um conjunto de algoritmos de otimização predefinidos, como descida de gradiente estocástico (SGD) e Adam, que podem ser usados ​​para otimizar os parâmetros de uma rede neural.\n",
    "from torch.optim import Adam\n",
    "#torch.autograd é um módulo na biblioteca do torch que fornece suporte para diferenciação automática. Ele permite que os gradientes sejam calculados automaticamente para qualquer operação de tensor.\n",
    "from torch.autograd import Variable\n",
    "#O código também importa a biblioteca torchivision, que é uma biblioteca separada que fornece suporte para tarefas de visão computacional, como classificação de imagens e detecção de objetos.\n",
    "import torchvision\n",
    "#pathlib é um módulo Python usado para trabalhar com caminhos de arquivos. Ele fornece uma interface orientada a objetos para trabalhar com caminhos de arquivo, facilitando a manipulação de caminhos de arquivo de maneira independente de plataforma.\n",
    "import pathlib"
   ]
  },
  {
   "cell_type": "code",
   "execution_count": 31,
   "metadata": {},
   "outputs": [],
   "source": [
    "#checando se possui GPU disponivel\n",
    "device=torch.device('cuda' if torch.cuda.is_available() else 'cpu')"
   ]
  },
  {
   "cell_type": "code",
   "execution_count": 32,
   "metadata": {},
   "outputs": [
    {
     "name": "stdout",
     "output_type": "stream",
     "text": [
      "cpu\n"
     ]
    }
   ],
   "source": [
    "#exibe GPU ou CPU\n",
    "print(device)"
   ]
  },
  {
   "cell_type": "code",
   "execution_count": 33,
   "metadata": {},
   "outputs": [],
   "source": [
    "transformer=transforms.Compose([\n",
    "    transforms.Resize((150,150)),\n",
    "    transforms.RandomHorizontalFlip(),\n",
    "    transforms.ToTensor(),\n",
    "    transforms.Normalize([0.5,0.5,0.5],\n",
    "                        [0.5,0.5,0.5])\n",
    "])"
   ]
  },
  {
   "attachments": {},
   "cell_type": "markdown",
   "metadata": {},
   "source": [
    "- A função transforms.Compose é uma função utilitária fornecida pela biblioteca PyTorch que permite aos usuários combinar várias transformações de imagem em um único pipeline de transformação. A função recebe uma lista de funções de transformação como entrada e retorna uma nova função que aplica cada transformação na lista em sequência.\n",
    "\n",
    "- No código fornecido, a função transforms.Compose é usada para criar um pipeline de transformação que consiste em quatro transformações: transforms.Resize, transforms.RandomHorizontalFlip, transforms.ToTensor e transforms.Normalize.\n",
    "\n",
    "- transforms.Resize((150,150)): Esta transformação redimensiona a imagem de entrada para um tamanho de 150x150 pixels. Isso é feito para garantir que todas as imagens no conjunto de dados tenham o mesmo tamanho, o que é um requisito para treinar modelos de aprendizado profundo.\n",
    "\n",
    "- transforms.RandomHorizontalFlip(): Esta transformação inverte aleatoriamente a imagem de entrada horizontalmente com uma probabilidade de 0,5. Isso é feito para aumentar o conjunto de dados e aumentar seu tamanho, o que pode melhorar o desempenho do modelo.\n",
    "\n",
    "- transforms.ToTensor(): Esta transformação converte a imagem de entrada de uma matriz NumPy com valores no intervalo [0, 255] em um tensor PyTorch com valores no intervalo [0, 1]. Isso é feito para garantir que os dados de entrada estejam no formato correto para treinar modelos de aprendizado profundo.\n",
    "\n",
    "- transforms.Normalize([0.5,0.5,0.5], [0.5,0.5,0.5]): Esta transformação normaliza o tensor de entrada subtraindo a média e dividindo pelo desvio padrão. Os valores de média e desvio padrão usados ​​nesta transformação são [0,5, 0,5, 0,5] e [0,5, 0,5, 0,5], respectivamente. Isso é feito para garantir que os dados de entrada tenham uma média de 0 e um desvio padrão de 1, o que pode melhorar o desempenho do modelo.\n",
    "\n",
    "- Finalmente, a função transforms.Compose retorna uma nova função que aplica cada transformação na lista em sequência. Essa nova função pode ser usada para transformar imagens de entrada antes de alimentá-las em um modelo de aprendizado profundo."
   ]
  },
  {
   "cell_type": "code",
   "execution_count": 34,
   "metadata": {},
   "outputs": [],
   "source": [
    "#Carregando os dados\n",
    "#Caminho para o diretório de treinamento e teste\n",
    "train_path='/home/lbarcat/Documentos/Code/GitHub/Galaxy-Detection/galaxy_detection/galaxy_train/galaxy_train'\n",
    "test_path='/home/lbarcat/Documentos/Code/GitHub/Galaxy-Detection/galaxy_detection/galaxy_test/galaxy_test'\n",
    "\n",
    "train_loader=DataLoader(\n",
    "    torchvision.datasets.ImageFolder(train_path,transform=transformer),\n",
    "    batch_size=64, shuffle=True\n",
    ")\n",
    "test_loader=DataLoader(\n",
    "    torchvision.datasets.ImageFolder(test_path,transform=transformer),\n",
    "    batch_size=32, shuffle=True\n",
    ")"
   ]
  },
  {
   "attachments": {},
   "cell_type": "markdown",
   "metadata": {},
   "source": [
    "- O código define duas variáveis, train_path e test_path, que representam os caminhos de arquivo para os dados de treinamento e teste para um modelo de detecção de galáxias. Os dados de treinamento estão localizados no diretório galaxy_train e os dados de teste estão localizados no diretório galaxy_test. Os caminhos de arquivo completos são especificados usando o caminho absoluto a partir do diretório raiz (/) e o diretório inicial (~) é substituído pelo nome de usuário lbarcat.\n",
    "\n",
    "- O código então cria dois carregadores de dados, train_loader e test_loader, usando a classe DataLoader do PyTorch. A classe DataLoader é usada para carregar dados de um conjunto de dados e fornecê-los a um modelo em lotes durante o treinamento ou teste.\n",
    "\n",
    "- A classe ImageFolder do módulo archvision.datasets é usada para carregar os dados dos diretórios train_path e test_path. A classe ImageFolder assume que os dados são organizados em subdiretórios, onde cada subdiretório representa uma classe e as imagens no subdiretório pertencem a essa classe. Nesse caso, os subdiretórios nos diretórios galaxy_train e galaxy_test representam os diferentes tipos de galáxias.\n",
    "\n",
    "- O argumento transformador é uma função de transformação aplicada a cada imagem no conjunto de dados. A função de transformação é especificada em outro lugar no código e não é mostrada aqui.\n",
    "\n",
    "- O argumento batch_size especifica o número de amostras em cada lote de dados. Nesse caso, o train_loader carrega 64 amostras por vez e o test_loader carrega 32 amostras por vez.\n",
    "\n",
    "- O argumento shuffle especifica se os dados devem ser embaralhados antes de cada época. Nesse caso, os dados são embaralhados para os dados de treinamento e teste.\n",
    "\n",
    "- Finalmente, os objetos train_loader e test_loader são criados e podem ser usados ​​para carregar os dados de treinamento e teste durante as fases de treinamento e teste do modelo de detecção de galáxias."
   ]
  },
  {
   "cell_type": "code",
   "execution_count": 35,
   "metadata": {},
   "outputs": [],
   "source": [
    "#input das categorias\n",
    "root=pathlib.Path(train_path)\n",
    "classes=sorted([j.name.split('/')[-1] for j in root.iterdir()])"
   ]
  },
  {
   "attachments": {},
   "cell_type": "markdown",
   "metadata": {},
   "source": [
    "- O código consiste em duas linhas. \n",
    "\n",
    "- A primeira linha cria um objeto Path a partir da string train_path usando o módulo pathlib. O objeto Path representa um caminho no sistema de arquivos e fornece métodos para trabalhar com arquivos e diretórios. \n",
    "\n",
    "- A segunda linha cria uma lista de nomes de classe iterando sobre o conteúdo do diretório train_path usando o método iterdir() do objeto Path. O método iterdir() retorna um iterador sobre o conteúdo do diretório, que pode ser arquivos ou subdiretórios. Para cada item no iterador, o código extrai o nome do item usando o atributo name do objeto Path e então extrai o nome da classe do nome do item dividindo-o no caractere '/' e pegando o último elemento do lista resultante. \n",
    "\n",
    "- A lista resultante de nomes de classes é então classificada usando a função sorted()."
   ]
  },
  {
   "cell_type": "code",
   "execution_count": 36,
   "metadata": {},
   "outputs": [
    {
     "name": "stdout",
     "output_type": "stream",
     "text": [
      "['anulares', 'barradas', 'elipticas', 'espirais', 'irregulares']\n"
     ]
    }
   ],
   "source": [
    "#exibindo as categorias\n",
    "print(classes)"
   ]
  },
  {
   "cell_type": "code",
   "execution_count": 37,
   "metadata": {},
   "outputs": [],
   "source": [
    "#CNN Network\n",
    "\n",
    "\n",
    "class ConvNet(nn.Module):\n",
    "    def __init__(self,num_classes=5):\n",
    "        super(ConvNet,self).__init__()\n",
    "        \n",
    "        #Output size after convolution filter\n",
    "        #((w-f+2P)/s) +1\n",
    "        \n",
    "        #Input shape= (256,3,150,150)\n",
    "        \n",
    "        self.conv1=nn.Conv2d(in_channels=3,out_channels=12,kernel_size=3,stride=1,padding=1)\n",
    "        #Shape= (256,12,150,150)\n",
    "        self.bn1=nn.BatchNorm2d(num_features=12)\n",
    "        #Shape= (256,12,150,150)\n",
    "        self.relu1=nn.ReLU()\n",
    "        #Shape= (256,12,150,150)\n",
    "        \n",
    "        self.pool=nn.MaxPool2d(kernel_size=2)\n",
    "        #Reduce the image size be factor 2\n",
    "        #Shape= (256,12,75,75)\n",
    "        \n",
    "        \n",
    "        self.conv2=nn.Conv2d(in_channels=12,out_channels=20,kernel_size=3,stride=1,padding=1)\n",
    "        #Shape= (256,20,75,75)\n",
    "        self.relu2=nn.ReLU()\n",
    "        #Shape= (256,20,75,75)\n",
    "        \n",
    "        \n",
    "        \n",
    "        self.conv3=nn.Conv2d(in_channels=20,out_channels=32,kernel_size=3,stride=1,padding=1)\n",
    "        #Shape= (256,32,75,75)\n",
    "        self.bn3=nn.BatchNorm2d(num_features=32)\n",
    "        #Shape= (256,32,75,75)\n",
    "        self.relu3=nn.ReLU()\n",
    "        #Shape= (256,32,75,75)\n",
    "        \n",
    "        \n",
    "        self.fc=nn.Linear(in_features=75 * 75 * 32,out_features=num_classes)\n",
    "        \n",
    "        \n",
    "        \n",
    "        #Feed forwad function\n",
    "        \n",
    "    def forward(self,input):\n",
    "        output=self.conv1(input)\n",
    "        output=self.bn1(output)\n",
    "        output=self.relu1(output)\n",
    "            \n",
    "        output=self.pool(output)\n",
    "            \n",
    "        output=self.conv2(output)\n",
    "        output=self.relu2(output)\n",
    "            \n",
    "        output=self.conv3(output)\n",
    "        output=self.bn3(output)\n",
    "        output=self.relu3(output)\n",
    "            \n",
    "            \n",
    "            #Above output will be in matrix form, with shape (256,32,75,75)\n",
    "            \n",
    "        output=output.view(-1,32*75*75)\n",
    "            \n",
    "            \n",
    "        output=self.fc(output)\n",
    "            \n",
    "        return output"
   ]
  },
  {
   "attachments": {},
   "cell_type": "markdown",
   "metadata": {},
   "source": [
    "- A classe ConvNet é uma rede neural convolucional implementada usando PyTorch. A rede pega uma imagem de entrada e gera uma previsão. A rede consiste em três camadas convolucionais, cada uma seguida por normalização em lote e ativação ReLU, e uma camada totalmente conectada no final.\n",
    "\n",
    "- O método __init__ inicializa as camadas da rede. A primeira camada convolucional (self.conv1) pega uma imagem de entrada com 3 canais (RGB) e aplica 12 filtros de tamanho 3x3 com stride 1 e padding 1. A saída dessa camada é então passada pela normalização em lote (self. bn1) e ativação ReLU (self.relu1). A segunda camada convolucional (self.conv2) pega a saída da primeira camada e aplica 20 filtros de tamanho 3x3 com stride 1 e padding 1. A saída dessa camada é então passada pela ativação ReLU (self.relu2). A terceira camada convolucional (self.conv3) pega a saída da segunda camada e aplica 32 filtros de tamanho 3x3 com um passo de 1 e preenchimento de 1. A saída dessa camada é então passada pela normalização em lote (self.bn3) e Ativação ReLU (self.relu3).\n",
    "\n",
    "- Após a terceira camada convolucional, a saída está em forma de matriz com formato (256, 32, 75, 75). A saída é então achatada usando o método view para criar um tensor 1D com 327575=180000 elementos. Esse tensor é então passado por uma camada totalmente conectada (self.fc) para produzir a saída final. O número de recursos de saída é determinado pelo argumento num_classes passado para o método __init__.\n",
    "\n",
    "- O método forward define a passagem feedforward da rede. A imagem de entrada é passada primeiro pelas camadas convolucionais (self.conv1, self.bn1, self.relu1, self.conv2, self.relu2, self.conv3, self.bn3, self.relu3) e depois por uma camada de pool máximo (auto.piscina). A saída da camada de pooling máximo é então nivelada e passada pela camada totalmente conectada (self.fc) para produzir a saída final."
   ]
  },
  {
   "cell_type": "code",
   "execution_count": 38,
   "metadata": {},
   "outputs": [],
   "source": [
    "model=ConvNet(num_classes=5).to(device)"
   ]
  },
  {
   "cell_type": "code",
   "execution_count": 39,
   "metadata": {},
   "outputs": [],
   "source": [
    "#Optmizer and loss function\n",
    "optimizer=Adam(model.parameters(),lr=0.001,weight_decay=0.0001)\n",
    "loss_function=nn.CrossEntropyLoss()"
   ]
  },
  {
   "cell_type": "code",
   "execution_count": 40,
   "metadata": {},
   "outputs": [],
   "source": [
    "num_epochs=60"
   ]
  },
  {
   "cell_type": "code",
   "execution_count": 41,
   "metadata": {},
   "outputs": [],
   "source": [
    "#calculating the size of training and testing images\n",
    "train_count=len(glob.glob(train_path+'/**/*.jpg'))\n",
    "test_count=len(glob.glob(test_path+'/**/*.jpg'))"
   ]
  },
  {
   "cell_type": "code",
   "execution_count": 42,
   "metadata": {},
   "outputs": [
    {
     "name": "stdout",
     "output_type": "stream",
     "text": [
      "76 76\n"
     ]
    }
   ],
   "source": [
    "print(train_count,test_count)"
   ]
  },
  {
   "cell_type": "code",
   "execution_count": 43,
   "metadata": {},
   "outputs": [
    {
     "name": "stdout",
     "output_type": "stream",
     "text": [
      "Epoch: 0 Train Loss: tensor(10.2572) Train Accuracy: 0.3026315789473684 Test Accuracy: 0.2631578947368421\n",
      "Epoch: 1 Train Loss: tensor(30.1877) Train Accuracy: 0.3157894736842105 Test Accuracy: 0.42105263157894735\n",
      "Epoch: 2 Train Loss: tensor(17.6366) Train Accuracy: 0.5526315789473685 Test Accuracy: 0.3157894736842105\n",
      "Epoch: 3 Train Loss: tensor(10.4675) Train Accuracy: 0.5657894736842105 Test Accuracy: 0.3157894736842105\n",
      "Epoch: 4 Train Loss: tensor(5.3245) Train Accuracy: 0.7105263157894737 Test Accuracy: 0.2236842105263158\n",
      "Epoch: 5 Train Loss: tensor(5.1212) Train Accuracy: 0.7368421052631579 Test Accuracy: 0.17105263157894737\n",
      "Epoch: 6 Train Loss: tensor(6.5085) Train Accuracy: 0.7105263157894737 Test Accuracy: 0.15789473684210525\n",
      "Epoch: 7 Train Loss: tensor(3.1744) Train Accuracy: 0.881578947368421 Test Accuracy: 0.25\n",
      "Epoch: 8 Train Loss: tensor(1.7505) Train Accuracy: 0.8421052631578947 Test Accuracy: 0.2236842105263158\n",
      "Epoch: 9 Train Loss: tensor(0.8473) Train Accuracy: 0.9210526315789473 Test Accuracy: 0.19736842105263158\n",
      "Epoch: 10 Train Loss: tensor(1.1154) Train Accuracy: 0.868421052631579 Test Accuracy: 0.2236842105263158\n",
      "Epoch: 11 Train Loss: tensor(0.0754) Train Accuracy: 0.9736842105263158 Test Accuracy: 0.3026315789473684\n",
      "Epoch: 12 Train Loss: tensor(0.2273) Train Accuracy: 0.9736842105263158 Test Accuracy: 0.39473684210526316\n",
      "Epoch: 13 Train Loss: tensor(0.1080) Train Accuracy: 0.9868421052631579 Test Accuracy: 0.5657894736842105\n",
      "Epoch: 14 Train Loss: tensor(0.0128) Train Accuracy: 1.013157894736842 Test Accuracy: 0.618421052631579\n",
      "Epoch: 15 Train Loss: tensor(0.0770) Train Accuracy: 1.013157894736842 Test Accuracy: 0.7368421052631579\n",
      "Epoch: 16 Train Loss: tensor(0.0039) Train Accuracy: 1.0263157894736843 Test Accuracy: 0.8289473684210527\n",
      "Epoch: 17 Train Loss: tensor(0.0012) Train Accuracy: 1.0263157894736843 Test Accuracy: 0.868421052631579\n",
      "Epoch: 18 Train Loss: tensor(0.0027) Train Accuracy: 1.0263157894736843 Test Accuracy: 0.8947368421052632\n",
      "Epoch: 19 Train Loss: tensor(0.0200) Train Accuracy: 1.013157894736842 Test Accuracy: 0.9078947368421053\n",
      "Epoch: 20 Train Loss: tensor(0.0007) Train Accuracy: 1.0263157894736843 Test Accuracy: 0.9342105263157895\n",
      "Epoch: 21 Train Loss: tensor(0.0002) Train Accuracy: 1.0263157894736843 Test Accuracy: 0.9736842105263158\n",
      "Epoch: 22 Train Loss: tensor(2.4139e-05) Train Accuracy: 1.0263157894736843 Test Accuracy: 1.0\n",
      "Epoch: 23 Train Loss: tensor(7.5723e-05) Train Accuracy: 1.0263157894736843 Test Accuracy: 1.0\n",
      "Epoch: 24 Train Loss: tensor(5.5320e-05) Train Accuracy: 1.0263157894736843 Test Accuracy: 0.9868421052631579\n",
      "Epoch: 25 Train Loss: tensor(0.0002) Train Accuracy: 1.0263157894736843 Test Accuracy: 1.013157894736842\n",
      "Epoch: 26 Train Loss: tensor(8.6824e-05) Train Accuracy: 1.0263157894736843 Test Accuracy: 1.013157894736842\n",
      "Epoch: 27 Train Loss: tensor(0.0033) Train Accuracy: 1.0263157894736843 Test Accuracy: 1.013157894736842\n",
      "Epoch: 28 Train Loss: tensor(1.9608e-05) Train Accuracy: 1.0263157894736843 Test Accuracy: 1.0263157894736843\n",
      "Epoch: 29 Train Loss: tensor(1.5277e-06) Train Accuracy: 1.0263157894736843 Test Accuracy: 1.0263157894736843\n",
      "Epoch: 30 Train Loss: tensor(1.3392e-05) Train Accuracy: 1.0263157894736843 Test Accuracy: 1.0263157894736843\n",
      "Epoch: 31 Train Loss: tensor(4.5487e-07) Train Accuracy: 1.0263157894736843 Test Accuracy: 1.0263157894736843\n",
      "Epoch: 32 Train Loss: tensor(6.4123e-06) Train Accuracy: 1.0263157894736843 Test Accuracy: 1.0263157894736843\n",
      "Epoch: 33 Train Loss: tensor(0.0004) Train Accuracy: 1.0263157894736843 Test Accuracy: 1.0263157894736843\n",
      "Epoch: 34 Train Loss: tensor(5.3336e-06) Train Accuracy: 1.0263157894736843 Test Accuracy: 1.0263157894736843\n",
      "Epoch: 35 Train Loss: tensor(3.8301e-06) Train Accuracy: 1.0263157894736843 Test Accuracy: 1.0263157894736843\n",
      "Epoch: 36 Train Loss: tensor(3.1371e-07) Train Accuracy: 1.0263157894736843 Test Accuracy: 1.0263157894736843\n",
      "Epoch: 37 Train Loss: tensor(5.6467e-07) Train Accuracy: 1.0263157894736843 Test Accuracy: 1.0263157894736843\n",
      "Epoch: 38 Train Loss: tensor(1.2469e-06) Train Accuracy: 1.0263157894736843 Test Accuracy: 1.0263157894736843\n",
      "Epoch: 39 Train Loss: tensor(5.9605e-08) Train Accuracy: 1.0263157894736843 Test Accuracy: 1.0263157894736843\n",
      "Epoch: 40 Train Loss: tensor(1.5795e-06) Train Accuracy: 1.0263157894736843 Test Accuracy: 1.0263157894736843\n",
      "Epoch: 41 Train Loss: tensor(1.4414e-06) Train Accuracy: 1.0263157894736843 Test Accuracy: 1.0263157894736843\n",
      "Epoch: 42 Train Loss: tensor(2.3057e-07) Train Accuracy: 1.0263157894736843 Test Accuracy: 1.0263157894736843\n",
      "Epoch: 43 Train Loss: tensor(1.6437e-06) Train Accuracy: 1.0263157894736843 Test Accuracy: 1.0263157894736843\n",
      "Epoch: 44 Train Loss: tensor(3.8899e-07) Train Accuracy: 1.0263157894736843 Test Accuracy: 1.0263157894736843\n",
      "Epoch: 45 Train Loss: tensor(1.7881e-07) Train Accuracy: 1.0263157894736843 Test Accuracy: 1.0263157894736843\n",
      "Epoch: 46 Train Loss: tensor(7.9680e-07) Train Accuracy: 1.0263157894736843 Test Accuracy: 1.0263157894736843\n",
      "Epoch: 47 Train Loss: tensor(1.1968e-06) Train Accuracy: 1.0263157894736843 Test Accuracy: 1.0263157894736843\n",
      "Epoch: 48 Train Loss: tensor(8.4701e-08) Train Accuracy: 1.0263157894736843 Test Accuracy: 1.0263157894736843\n",
      "Epoch: 49 Train Loss: tensor(1.5058e-07) Train Accuracy: 1.0263157894736843 Test Accuracy: 1.0263157894736843\n",
      "Epoch: 50 Train Loss: tensor(4.7056e-08) Train Accuracy: 1.0263157894736843 Test Accuracy: 1.0263157894736843\n",
      "Epoch: 51 Train Loss: tensor(4.8624e-07) Train Accuracy: 1.0263157894736843 Test Accuracy: 1.0263157894736843\n",
      "Epoch: 52 Train Loss: tensor(2.0092e-06) Train Accuracy: 1.0263157894736843 Test Accuracy: 1.0263157894736843\n",
      "Epoch: 53 Train Loss: tensor(6.5879e-08) Train Accuracy: 1.0263157894736843 Test Accuracy: 1.0263157894736843\n",
      "Epoch: 54 Train Loss: tensor(1.3803e-07) Train Accuracy: 1.0263157894736843 Test Accuracy: 1.0263157894736843\n",
      "Epoch: 55 Train Loss: tensor(2.0705e-07) Train Accuracy: 1.0263157894736843 Test Accuracy: 1.0263157894736843\n",
      "Epoch: 56 Train Loss: tensor(1.8806e-06) Train Accuracy: 1.0263157894736843 Test Accuracy: 1.0263157894736843\n",
      "Epoch: 57 Train Loss: tensor(4.0039e-06) Train Accuracy: 1.0263157894736843 Test Accuracy: 1.0263157894736843\n",
      "Epoch: 58 Train Loss: tensor(2.5659e-06) Train Accuracy: 1.0263157894736843 Test Accuracy: 1.0263157894736843\n",
      "Epoch: 59 Train Loss: tensor(6.9292e-05) Train Accuracy: 1.0263157894736843 Test Accuracy: 1.0263157894736843\n"
     ]
    }
   ],
   "source": [
    "#Model training and saving best model\n",
    "\n",
    "best_accuracy=0.0\n",
    "\n",
    "for epoch in range(num_epochs):\n",
    "    \n",
    "    #Evaluation and training on training dataset\n",
    "    model.train()\n",
    "    train_accuracy=0.0\n",
    "    train_loss=0.0\n",
    "    \n",
    "    for i, (images,labels) in enumerate(train_loader):\n",
    "        if torch.cuda.is_available():\n",
    "            images=Variable(images.cuda())\n",
    "            labels=Variable(labels.cuda())\n",
    "            \n",
    "        optimizer.zero_grad()\n",
    "        \n",
    "        outputs=model(images)\n",
    "        loss=loss_function(outputs,labels)\n",
    "        loss.backward()\n",
    "        optimizer.step()\n",
    "        \n",
    "        \n",
    "        train_loss+= loss.cpu().data*images.size(0)\n",
    "        _,prediction=torch.max(outputs.data,1)\n",
    "        \n",
    "        train_accuracy+=int(torch.sum(prediction==labels.data))\n",
    "        \n",
    "    train_accuracy=train_accuracy/train_count\n",
    "    train_loss=train_loss/train_count\n",
    "    \n",
    "    \n",
    "    # Evaluation on testing dataset\n",
    "    model.eval()\n",
    "    \n",
    "    test_accuracy=0.0\n",
    "    for i, (images,labels) in enumerate(test_loader):\n",
    "        if torch.cuda.is_available():\n",
    "            images=Variable(images.cuda())\n",
    "            labels=Variable(labels.cuda())\n",
    "            \n",
    "        outputs=model(images)\n",
    "        _,prediction=torch.max(outputs.data,1)\n",
    "        test_accuracy+=int(torch.sum(prediction==labels.data))\n",
    "    \n",
    "    test_accuracy=test_accuracy/test_count\n",
    "    \n",
    "    \n",
    "    print('Epoch: '+str(epoch)+' Train Loss: '+str(train_loss)+' Train Accuracy: '+str(train_accuracy)+' Test Accuracy: '+str(test_accuracy))\n",
    "    \n",
    "    #Save the best model\n",
    "    if test_accuracy>best_accuracy:\n",
    "        torch.save(model.state_dict(),'best_checkpoint.model')\n",
    "        best_accuracy=test_accuracy"
   ]
  }
 ],
 "metadata": {
  "kernelspec": {
   "display_name": "Python 3",
   "language": "python",
   "name": "python3"
  },
  "language_info": {
   "codemirror_mode": {
    "name": "ipython",
    "version": 3
   },
   "file_extension": ".py",
   "mimetype": "text/x-python",
   "name": "python",
   "nbconvert_exporter": "python",
   "pygments_lexer": "ipython3",
   "version": "3.10.6"
  },
  "orig_nbformat": 4
 },
 "nbformat": 4,
 "nbformat_minor": 2
}
